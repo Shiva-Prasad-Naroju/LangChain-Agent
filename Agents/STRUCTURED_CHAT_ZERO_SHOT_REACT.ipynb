{
 "cells": [
  {
   "cell_type": "markdown",
   "id": "66380606",
   "metadata": {},
   "source": [
    "#### STRUCTURED_CHAT_ZERO_SHOT_REACT:"
   ]
  },
  {
   "cell_type": "markdown",
   "id": "562a0e2c",
   "metadata": {},
   "source": [
    "This agent type uses structured tools (with clearly defined input fields) and allows the LLM to:\n",
    "\n",
    "- Pick the right tool\n",
    "\n",
    "- Fill input fields like a form (using a Pydantic schema)\n",
    "\n",
    "- Execute multi-step reasoning with clean input-output structure"
   ]
  },
  {
   "cell_type": "code",
   "execution_count": 9,
   "id": "6072027c",
   "metadata": {},
   "outputs": [
    {
     "name": "stdout",
     "output_type": "stream",
     "text": [
      "\n",
      "\n",
      "\u001b[1m> Entering new AgentExecutor chain...\u001b[0m\n",
      "\u001b[32;1m\u001b[1;3mAction:\n",
      "```\n",
      "{\n",
      "  \"action\": \"introduce_person\",\n",
      "  \"action_input\": {\n",
      "    \"name\": \"Shiva\",\n",
      "    \"age\": 23\n",
      "  }\n",
      "}\n",
      "```\n",
      "\u001b[0m\n",
      "Observation: \u001b[36;1m\u001b[1;3mShiva is 23 years old.\u001b[0m\n",
      "Thought:\u001b[32;1m\u001b[1;3mAction:\n",
      "```\n",
      "{\n",
      "  \"action\": \"Final Answer\",\n",
      "  \"action_input\": \"Hello, I'd like to introduce Shiva, who is 23 years old.\"\n",
      "}\n",
      "```\n",
      "\u001b[0m\n",
      "\n",
      "\u001b[1m> Finished chain.\u001b[0m\n"
     ]
    },
    {
     "data": {
      "text/plain": [
       "\"Hello, I'd like to introduce Shiva, who is 23 years old.\""
      ]
     },
     "execution_count": 9,
     "metadata": {},
     "output_type": "execute_result"
    }
   ],
   "source": [
    "from langchain_groq import ChatGroq\n",
    "from langchain.agents import initialize_agent, AgentType\n",
    "from langchain.tools import tool\n",
    "from pydantic import BaseModel\n",
    "\n",
    "# Define structured input\n",
    "class PersonInput(BaseModel):\n",
    "    name: str\n",
    "    age: int\n",
    "\n",
    "# Define structured tool\n",
    "\n",
    "# Whenever we create a tool using decorator, we must specify the doc string in the function of what it does.\n",
    "# or we must use description parameter.\n",
    "@tool(args_schema=PersonInput)\n",
    "def introduce_person(name: str, age: int) -> str:\n",
    "    \"\"\"Introduces a person using their name and age.\"\"\"\n",
    "    return f\"{name} is {age} years old.\"\n",
    "\n",
    "# Load LLM\n",
    "llm = ChatGroq(model_name=\"llama3-70b-8192\", temperature=0)\n",
    "\n",
    "# Initialize agent\n",
    "agent = initialize_agent(\n",
    "    tools=[introduce_person],\n",
    "    llm=llm,\n",
    "    agent=AgentType.STRUCTURED_CHAT_ZERO_SHOT_REACT_DESCRIPTION,\n",
    "    verbose=True\n",
    ")\n",
    "\n",
    "# Run test\n",
    "agent.run(\"Introduce Shiva who is 23 years old\")\n"
   ]
  },
  {
   "cell_type": "code",
   "execution_count": null,
   "id": "6a09cfe7",
   "metadata": {},
   "outputs": [],
   "source": []
  },
  {
   "cell_type": "code",
   "execution_count": null,
   "id": "380ff112",
   "metadata": {},
   "outputs": [],
   "source": []
  },
  {
   "cell_type": "code",
   "execution_count": null,
   "id": "a6353bef",
   "metadata": {},
   "outputs": [],
   "source": []
  },
  {
   "cell_type": "code",
   "execution_count": null,
   "id": "56e2b691",
   "metadata": {},
   "outputs": [],
   "source": []
  }
 ],
 "metadata": {
  "kernelspec": {
   "display_name": "Python 3",
   "language": "python",
   "name": "python3"
  },
  "language_info": {
   "codemirror_mode": {
    "name": "ipython",
    "version": 3
   },
   "file_extension": ".py",
   "mimetype": "text/x-python",
   "name": "python",
   "nbconvert_exporter": "python",
   "pygments_lexer": "ipython3",
   "version": "3.10.18"
  }
 },
 "nbformat": 4,
 "nbformat_minor": 5
}
