{
 "cells": [
  {
   "cell_type": "markdown",
   "id": "0d14e8aa",
   "metadata": {},
   "source": [
    "##### Agent with ZERO_SHOT_REACT_DESCRIPTION:"
   ]
  },
  {
   "cell_type": "markdown",
   "id": "156eb369",
   "metadata": {},
   "source": [
    "Logic:\n",
    "\n",
    "- Agent looks at tool descriptions and decides which tool to use\n",
    "\n",
    "- Works best with natural language questions"
   ]
  },
  {
   "cell_type": "code",
   "execution_count": 1,
   "id": "1ac30b06",
   "metadata": {},
   "outputs": [],
   "source": [
    "from langchain.agents import initialize_agent, AgentType\n",
    "from langchain.tools import Tool"
   ]
  },
  {
   "cell_type": "code",
   "execution_count": 12,
   "id": "9523edab",
   "metadata": {},
   "outputs": [],
   "source": [
    "def multiply(x):\n",
    "    return f\"Double : {int(x)*2}\""
   ]
  },
  {
   "cell_type": "code",
   "execution_count": 13,
   "id": "4a5d0bd8",
   "metadata": {},
   "outputs": [],
   "source": [
    "# Tool creation\n",
    "double_tool = Tool(\n",
    "    name='Multiplier',\n",
    "    func=multiply,\n",
    "    description='Doubles the number'\n",
    ")"
   ]
  },
  {
   "cell_type": "code",
   "execution_count": 14,
   "id": "58160d0d",
   "metadata": {},
   "outputs": [],
   "source": [
    "# LLM building\n",
    "from langchain_groq import ChatGroq\n",
    "llm = ChatGroq(model_name=\"llama3-70b-8192\",temperature=0)"
   ]
  },
  {
   "cell_type": "code",
   "execution_count": 15,
   "id": "12f56873",
   "metadata": {},
   "outputs": [],
   "source": [
    "# Agent intialization:\n",
    "agent = initialize_agent(\n",
    "    tools=[double_tool],\n",
    "    llm=llm,\n",
    "    agent = AgentType.ZERO_SHOT_REACT_DESCRIPTION,\n",
    "    verbose=True\n",
    ")"
   ]
  },
  {
   "cell_type": "code",
   "execution_count": 16,
   "id": "82fd6e10",
   "metadata": {},
   "outputs": [
    {
     "name": "stdout",
     "output_type": "stream",
     "text": [
      "\n",
      "\n",
      "\u001b[1m> Entering new AgentExecutor chain...\u001b[0m\n",
      "\u001b[32;1m\u001b[1;3mThought: I need to double the number 26, so I'll use the Multiplier tool.\n",
      "\n",
      "Action: Multiplier\n",
      "Action Input: 26\u001b[0m\n",
      "Observation: \u001b[36;1m\u001b[1;3mDouble : 52\u001b[0m\n",
      "Thought:\u001b[32;1m\u001b[1;3mI now know the final answer\n",
      "Final Answer: 52\u001b[0m\n",
      "\n",
      "\u001b[1m> Finished chain.\u001b[0m\n"
     ]
    },
    {
     "data": {
      "text/plain": [
       "'52'"
      ]
     },
     "execution_count": 16,
     "metadata": {},
     "output_type": "execute_result"
    }
   ],
   "source": [
    "agent.run(\"Double the number 26\")"
   ]
  },
  {
   "cell_type": "code",
   "execution_count": null,
   "id": "c078c743",
   "metadata": {},
   "outputs": [],
   "source": []
  },
  {
   "cell_type": "code",
   "execution_count": null,
   "id": "4362da45",
   "metadata": {},
   "outputs": [],
   "source": []
  },
  {
   "cell_type": "code",
   "execution_count": null,
   "id": "e99b9434",
   "metadata": {},
   "outputs": [],
   "source": []
  }
 ],
 "metadata": {
  "kernelspec": {
   "display_name": "Python 3",
   "language": "python",
   "name": "python3"
  },
  "language_info": {
   "codemirror_mode": {
    "name": "ipython",
    "version": 3
   },
   "file_extension": ".py",
   "mimetype": "text/x-python",
   "name": "python",
   "nbconvert_exporter": "python",
   "pygments_lexer": "ipython3",
   "version": "3.10.18"
  }
 },
 "nbformat": 4,
 "nbformat_minor": 5
}
