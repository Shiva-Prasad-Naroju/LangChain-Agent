{
 "cells": [
  {
   "cell_type": "markdown",
   "id": "a5470ee1",
   "metadata": {},
   "source": [
    "#### CHAT_CONVERSATIONAL_REACT_DESCRIPTION:"
   ]
  },
  {
   "cell_type": "markdown",
   "id": "df206db2",
   "metadata": {},
   "source": [
    "This agent behaves like ZERO_SHOT_REACT_DESCRIPTION, but with memory.\n",
    "It can remember earlier parts of a conversation, making it useful for chatbots and assistants.\n",
    "\n",
    "🔁 Why Use This?\n",
    "- Maintains context across multiple questions\n",
    "\n",
    "- Remembers what the user previously said\n",
    "\n",
    "- Perfect for apps that simulate real conversation\n",
    "\n",
    "\n",
    "📦 Use Case:\n",
    "\n",
    "- You: \"My name is Shiva\"\n",
    "\n",
    "- Later: \"What's my name?\"\n",
    "\n",
    "- Agent: \"Your name is Shiva.\""
   ]
  },
  {
   "cell_type": "code",
   "execution_count": 2,
   "id": "be8e06ad",
   "metadata": {},
   "outputs": [
    {
     "name": "stderr",
     "output_type": "stream",
     "text": [
      "C:\\Users\\DELL\\AppData\\Local\\Temp\\ipykernel_14424\\2222588943.py:16: LangChainDeprecationWarning: Please see the migration guide at: https://python.langchain.com/docs/versions/migrating_memory/\n",
      "  memory = ConversationBufferMemory(memory_key=\"chat_history\", return_messages=True)\n",
      "C:\\Users\\DELL\\AppData\\Local\\Temp\\ipykernel_14424\\2222588943.py:19: LangChainDeprecationWarning: LangChain agents will continue to be supported, but it is recommended for new use cases to be built with LangGraph. LangGraph offers a more flexible and full-featured framework for building agents, including support for tool-calling, persistence of state, and human-in-the-loop workflows. For details, refer to the `LangGraph documentation <https://langchain-ai.github.io/langgraph/>`_ as well as guides for `Migrating from AgentExecutor <https://python.langchain.com/docs/how_to/migrate_agent/>`_ and LangGraph's `Pre-built ReAct agent <https://langchain-ai.github.io/langgraph/how-tos/create-react-agent/>`_.\n",
      "  agent = initialize_agent(\n",
      "C:\\Users\\DELL\\AppData\\Local\\Temp\\ipykernel_14424\\2222588943.py:28: LangChainDeprecationWarning: The method `Chain.run` was deprecated in langchain 0.1.0 and will be removed in 1.0. Use :meth:`~invoke` instead.\n",
      "  agent.run(\"My name is Shiva\")\n"
     ]
    },
    {
     "name": "stdout",
     "output_type": "stream",
     "text": [
      "\n",
      "\n",
      "\u001b[1m> Entering new AgentExecutor chain...\u001b[0m\n",
      "\u001b[32;1m\u001b[1;3m```json\n",
      "{\n",
      "    \"action\": \"remember_me\",\n",
      "    \"action_input\": \"Shiva\"\n",
      "}\n",
      "```\u001b[0m\n",
      "Observation: \u001b[36;1m\u001b[1;3mGot it, I'll remember your name is Shiva.\u001b[0m\n",
      "Thought:\u001b[32;1m\u001b[1;3m```json\n",
      "{\n",
      "    \"action\": \"Final Answer\",\n",
      "    \"action_input\": \"I remember that your name is Shiva.\"\n",
      "}\n",
      "```\u001b[0m\n",
      "\n",
      "\u001b[1m> Finished chain.\u001b[0m\n",
      "\n",
      "\n",
      "\u001b[1m> Entering new AgentExecutor chain...\u001b[0m\n",
      "\u001b[32;1m\u001b[1;3m```\n",
      "{\n",
      "    \"action\": \"remember_me\",\n",
      "    \"action_input\": \"Shiva\"\n",
      "}\n",
      "```\u001b[0m\n",
      "Observation: \u001b[36;1m\u001b[1;3mGot it, I'll remember your name is Shiva.\u001b[0m\n",
      "Thought:\u001b[32;1m\u001b[1;3m```\n",
      "{\n",
      "    \"action\": \"Final Answer\",\n",
      "    \"action_input\": \"Your name is Shiva.\"\n",
      "}\n",
      "```\u001b[0m\n",
      "\n",
      "\u001b[1m> Finished chain.\u001b[0m\n"
     ]
    },
    {
     "data": {
      "text/plain": [
       "'Your name is Shiva.'"
      ]
     },
     "execution_count": 2,
     "metadata": {},
     "output_type": "execute_result"
    }
   ],
   "source": [
    "from langchain_groq import ChatGroq\n",
    "from langchain.agents import initialize_agent, AgentType\n",
    "from langchain.memory import ConversationBufferMemory\n",
    "from langchain.tools import tool\n",
    "\n",
    "# Tool: just repeats input\n",
    "@tool\n",
    "def remember_me(name: str) -> str:\n",
    "    \"\"\"Stores your name.\"\"\"\n",
    "    return f\"Got it, I'll remember your name is {name}.\"\n",
    "\n",
    "# Groq LLM\n",
    "llm = ChatGroq(model_name=\"llama3-70b-8192\", temperature=0)\n",
    "\n",
    "# Memory setup\n",
    "memory = ConversationBufferMemory(memory_key=\"chat_history\", return_messages=True)\n",
    "\n",
    "# Agent\n",
    "agent = initialize_agent(\n",
    "    tools=[remember_me],\n",
    "    llm=llm,\n",
    "    agent=AgentType.CHAT_CONVERSATIONAL_REACT_DESCRIPTION,\n",
    "    memory=memory,\n",
    "    verbose=True\n",
    ")\n",
    "\n",
    "# Run examples\n",
    "agent.run(\"My name is Shiva\")\n",
    "agent.run(\"What is my name?\")\n"
   ]
  },
  {
   "cell_type": "code",
   "execution_count": null,
   "metadata": {},
   "outputs": [],
   "source": []
  },
  {
   "cell_type": "code",
   "execution_count": null,
   "id": "bc330ce6",
   "metadata": {},
   "outputs": [],
   "source": []
  },
  {
   "cell_type": "code",
   "execution_count": null,
   "id": "cbdf36bf",
   "metadata": {},
   "outputs": [],
   "source": []
  },
  {
   "cell_type": "code",
   "execution_count": null,
   "id": "a7a3927b",
   "metadata": {},
   "outputs": [],
   "source": []
  },
  {
   "cell_type": "code",
   "execution_count": null,
   "id": "f4cbe062",
   "metadata": {},
   "outputs": [],
   "source": []
  }
 ],
 "metadata": {
  "kernelspec": {
   "display_name": "Python 3",
   "language": "python",
   "name": "python3"
  },
  "language_info": {
   "codemirror_mode": {
    "name": "ipython",
    "version": 3
   },
   "file_extension": ".py",
   "mimetype": "text/x-python",
   "name": "python",
   "nbconvert_exporter": "python",
   "pygments_lexer": "ipython3",
   "version": "3.10.18"
  }
 },
 "nbformat": 4,
 "nbformat_minor": 5
}
