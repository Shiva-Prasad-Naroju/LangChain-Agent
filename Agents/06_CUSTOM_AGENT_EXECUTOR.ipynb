{
 "cells": [
  {
   "cell_type": "markdown",
   "id": "d84f4305",
   "metadata": {},
   "source": [
    "#### CUSTOM_AGENT_EXECUTOR:"
   ]
  },
  {
   "cell_type": "markdown",
   "id": "23a21598",
   "metadata": {},
   "source": [
    "Goal: Real-World Custom Agent\n",
    "We’ll build a custom agent using Groq LLM + LangChain, that can:\n",
    "\n",
    "🔍 Search Wikipedia for any topic\n",
    "\n",
    "📅 Convert natural dates to a clean format\n",
    "\n",
    "📊 Summarize text"
   ]
  },
  {
   "cell_type": "code",
   "execution_count": null,
   "id": "30dfebc9",
   "metadata": {},
   "outputs": [],
   "source": [
    "from langchain_core.tools import tool\n",
    "\n",
    "from langchain.agents import initialize_agent, AgentType # This is for default agent initialization\n",
    "from langchain.agents import AgentExecutor, Tool, create_tool_calling_agent        # This is for Custom Agent execution\n",
    "\n",
    "from langchain.prompts import PromptTemplate\n",
    "from langchain_core.output_parsers import StrOutputParser\n",
    "from langchain_groq import ChatGroq\n",
    "\n",
    "import requests\n",
    "from datetime import datetime"
   ]
  },
  {
   "cell_type": "markdown",
   "id": "cc7d9a34",
   "metadata": {},
   "source": [
    "#### Tools:"
   ]
  },
  {
   "cell_type": "code",
   "execution_count": 2,
   "id": "0806b10c",
   "metadata": {},
   "outputs": [],
   "source": [
    "# Wikipedia Search Tool\n",
    "@tool\n",
    "def search_wikipedia(query: str) -> str:\n",
    "    \"\"\"Searches Wikipedia and returns the first paragraph.\"\"\"\n",
    "    response = requests.get(\n",
    "        f\"https://en.wikipedia.org/api/rest_v1/page/summary/{query.replace(' ', '%20')}\"\n",
    "    )\n",
    "    if response.status_code == 200:\n",
    "        data = response.json()\n",
    "        return data.get(\"extract\", \"No summary found.\")\n",
    "    return \"Error fetching data.\"\n",
    "\n",
    "# Natural Date Converter\n",
    "@tool\n",
    "def convert_date(date_str: str) -> str:\n",
    "    \"\"\"Converts a natural language date to YYYY-MM-DD format.\"\"\"\n",
    "    try:\n",
    "        dt = datetime.strptime(date_str, \"%B %d, %Y\")\n",
    "        return dt.strftime(\"%Y-%m-%d\")\n",
    "    except Exception:\n",
    "        return \"Please provide a date like 'June 24, 2025'\"\n",
    "\n",
    "# Text Summarizer\n",
    "@tool\n",
    "def summarize_text(text: str) -> str:\n",
    "    \"\"\"Summarizes the given text in one line.\"\"\"\n",
    "    return f\"Summary: {text[:150]}...\" if len(text) > 150 else text"
   ]
  },
  {
   "cell_type": "code",
   "execution_count": 13,
   "id": "9b3de747",
   "metadata": {},
   "outputs": [],
   "source": [
    "llm = ChatGroq(model_name=\"llama3-70b-8192\", temperature=0)\n",
    "\n",
    "# Prompt Template:\n",
    "prompt = PromptTemplate.from_template(\"\"\"\n",
    "You are a helpful AI assistant that uses tools when necessary.\n",
    "\n",
    "Answer the question as best you can. Use tools if needed.\n",
    "\n",
    "Question: {input}\n",
    "\n",
    "{agent_scratchpad}\n",
    "\"\"\")"
   ]
  },
  {
   "cell_type": "code",
   "execution_count": 19,
   "id": "b402db3a",
   "metadata": {},
   "outputs": [],
   "source": [
    "# Chain & Executor\n",
    "\n",
    "tools = [search_wikipedia, convert_date, summarize_text]\n",
    "\n",
    "agent = create_tool_calling_agent(llm, tools, prompt)\n",
    "\n",
    "# This by default sets max iter rate=5, sometimes agent if agent couldn't fetech within 5, it gets stopped.\n",
    "# agent_executor = AgentExecutor(agent=agent, tools=tools, verbose=True)  \n",
    "\n",
    "agent_executor = AgentExecutor(\n",
    "    agent=agent,\n",
    "    tools=tools,\n",
    "    verbose=True,\n",
    "    max_iterations=10\n",
    ")\n"
   ]
  },
  {
   "cell_type": "code",
   "execution_count": 22,
   "id": "8bf21ea9",
   "metadata": {},
   "outputs": [
    {
     "name": "stdout",
     "output_type": "stream",
     "text": [
      "\n",
      "\n",
      "\u001b[1m> Entering new AgentExecutor chain...\u001b[0m\n",
      "\u001b[32;1m\u001b[1;3m\n",
      "Invoking: `summarize_text` with `{'text': 'Artificial intelligence (AI) refers to the development of computer systems that can perform tasks that typically require human intelligence, such as visual perception, speech recognition, decision-making, and language translation. AI systems can analyze data, learn from experience, and adapt to new situations, enabling them to make decisions and take actions with minimal human intervention.'}`\n",
      "\n",
      "\n",
      "\u001b[0m\u001b[38;5;200m\u001b[1;3mSummary: Artificial intelligence (AI) refers to the development of computer systems that can perform tasks that typically require human intelligence, such as v...\u001b[0m\u001b[32;1m\u001b[1;3m\n",
      "Invoking: `summarize_text` with `{'text': 'Artificial intelligence (AI) refers to the development of computer systems that can perform tasks that typically require human intelligence, such as visual perception, speech recognition, decision-making, and language translation. AI systems can analyze data, learn from experience, and adapt to new situations, enabling them to make decisions and take actions with minimal human intervention.'}`\n",
      "\n",
      "\n",
      "\u001b[0m\u001b[38;5;200m\u001b[1;3mSummary: Artificial intelligence (AI) refers to the development of computer systems that can perform tasks that typically require human intelligence, such as v...\u001b[0m\u001b[32;1m\u001b[1;3m\n",
      "Invoking: `summarize_text` with `{'text': 'Artificial intelligence (AI) refers to the development of computer systems that can perform tasks that typically require human intelligence, such as visual perception, speech recognition, decision-making, and language translation. AI systems can analyze data, learn from experience, and adapt to new situations, enabling them to make decisions and take actions with minimal human intervention.'}`\n",
      "\n",
      "\n",
      "\u001b[0m\u001b[38;5;200m\u001b[1;3mSummary: Artificial intelligence (AI) refers to the development of computer systems that can perform tasks that typically require human intelligence, such as v...\u001b[0m\u001b[32;1m\u001b[1;3m\n",
      "Invoking: `summarize_text` with `{'text': 'Artificial intelligence (AI) refers to the development of computer systems that can perform tasks that typically require human intelligence, such as visual perception, speech recognition, decision-making, and language translation. AI systems can analyze data, learn from experience, and adapt to new situations, enabling them to make decisions and take actions with minimal human intervention.'}`\n",
      "\n",
      "\n",
      "\u001b[0m\u001b[38;5;200m\u001b[1;3mSummary: Artificial intelligence (AI) refers to the development of computer systems that can perform tasks that typically require human intelligence, such as v...\u001b[0m\u001b[32;1m\u001b[1;3m\n",
      "Invoking: `summarize_text` with `{'text': 'Artificial intelligence (AI) refers to the development of computer systems that can perform tasks that typically require human intelligence, such as visual perception, speech recognition, decision-making, and language translation. AI systems can analyze data, learn from experience, and adapt to new situations, enabling them to make decisions and take actions with minimal human intervention.'}`\n",
      "\n",
      "\n",
      "\u001b[0m\u001b[38;5;200m\u001b[1;3mSummary: Artificial intelligence (AI) refers to the development of computer systems that can perform tasks that typically require human intelligence, such as v...\u001b[0m\u001b[32;1m\u001b[1;3m\n",
      "Invoking: `summarize_text` with `{'text': 'Artificial intelligence (AI) refers to the development of computer systems that can perform tasks that typically require human intelligence, such as visual perception, speech recognition, decision-making, and language translation. AI systems can analyze data, learn from experience, and adapt to new situations, enabling them to make decisions and take actions with minimal human intervention.'}`\n",
      "\n",
      "\n",
      "\u001b[0m\u001b[38;5;200m\u001b[1;3mSummary: Artificial intelligence (AI) refers to the development of computer systems that can perform tasks that typically require human intelligence, such as v...\u001b[0m\u001b[32;1m\u001b[1;3m\n",
      "Invoking: `summarize_text` with `{'text': 'Artificial intelligence (AI) refers to the development of computer systems that can perform tasks that typically require human intelligence, such as visual perception, speech recognition, decision-making, and language translation. AI systems can analyze data, learn from experience, and adapt to new situations, enabling them to make decisions and take actions with minimal human intervention.'}`\n",
      "\n",
      "\n",
      "\u001b[0m\u001b[38;5;200m\u001b[1;3mSummary: Artificial intelligence (AI) refers to the development of computer systems that can perform tasks that typically require human intelligence, such as v...\u001b[0m\u001b[32;1m\u001b[1;3m\n",
      "Invoking: `summarize_text` with `{'text': 'Artificial intelligence (AI) refers to the development of computer systems that can perform tasks that typically require human intelligence, such as visual perception, speech recognition, decision-making, and language translation. AI systems can analyze data, learn from experience, and adapt to new situations, enabling them to make decisions and take actions with minimal human intervention.'}`\n",
      "\n",
      "\n",
      "\u001b[0m\u001b[38;5;200m\u001b[1;3mSummary: Artificial intelligence (AI) refers to the development of computer systems that can perform tasks that typically require human intelligence, such as v...\u001b[0m\u001b[32;1m\u001b[1;3m\n",
      "Invoking: `summarize_text` with `{'text': 'Artificial intelligence (AI) refers to the development of computer systems that can perform tasks that typically require human intelligence, such as visual perception, speech recognition, decision-making, and language translation. AI systems can analyze data, learn from experience, and adapt to new situations, enabling them to make decisions and take actions with minimal human intervention.'}`\n",
      "\n",
      "\n",
      "\u001b[0m\u001b[38;5;200m\u001b[1;3mSummary: Artificial intelligence (AI) refers to the development of computer systems that can perform tasks that typically require human intelligence, such as v...\u001b[0m\u001b[32;1m\u001b[1;3m\n",
      "Invoking: `summarize_text` with `{'text': 'Artificial intelligence (AI) refers to the development of computer systems that can perform tasks that typically require human intelligence, such as visual perception, speech recognition, decision-making, and language translation. AI systems can analyze data, learn from experience, and adapt to new situations, enabling them to make decisions and take actions with minimal human intervention.'}`\n",
      "\n",
      "\n",
      "\u001b[0m\u001b[38;5;200m\u001b[1;3mSummary: Artificial intelligence (AI) refers to the development of computer systems that can perform tasks that typically require human intelligence, such as v...\u001b[0m\u001b[32;1m\u001b[1;3m\u001b[0m\n",
      "\n",
      "\u001b[1m> Finished chain.\u001b[0m\n"
     ]
    },
    {
     "data": {
      "text/plain": [
       "{'input': 'Explain Artificial Intelligence?',\n",
       " 'output': 'Agent stopped due to max iterations.'}"
      ]
     },
     "execution_count": 22,
     "metadata": {},
     "output_type": "execute_result"
    }
   ],
   "source": [
    "# Testing results:\n",
    "\n",
    "agent_executor.invoke({\"input\": \"Explain Artificial Intelligence?\"})"
   ]
  },
  {
   "cell_type": "code",
   "execution_count": null,
   "id": "811f5431",
   "metadata": {},
   "outputs": [],
   "source": []
  }
 ],
 "metadata": {
  "kernelspec": {
   "display_name": "Python 3",
   "language": "python",
   "name": "python3"
  },
  "language_info": {
   "codemirror_mode": {
    "name": "ipython",
    "version": 3
   },
   "file_extension": ".py",
   "mimetype": "text/x-python",
   "name": "python",
   "nbconvert_exporter": "python",
   "pygments_lexer": "ipython3",
   "version": "3.10.18"
  }
 },
 "nbformat": 4,
 "nbformat_minor": 5
}
