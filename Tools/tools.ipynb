{
 "cells": [
  {
   "cell_type": "markdown",
   "id": "57a778d8",
   "metadata": {},
   "source": [
    "### Tools in LangChain:"
   ]
  },
  {
   "cell_type": "code",
   "execution_count": 38,
   "id": "22c5c08d",
   "metadata": {},
   "outputs": [],
   "source": [
    "# Basic tool using `tool` class:\n",
    "from langchain.tools import Tool\n",
    "\n",
    "# Basic python function:\n",
    "def get_square(x):\n",
    "    try:\n",
    "        x = int(x)\n",
    "        return f\"The square of the number is {x * x}\"\n",
    "    except ValueError:\n",
    "        return \"Please provide a valid number.\"\n",
    "\n",
    "# Wrap the python function as a LangChain tool:\n",
    "square_tool = Tool(\n",
    "    name=\"SquareCalculator\",\n",
    "    func=get_square,\n",
    "    description=\"Return the square of given number\"\n",
    ")"
   ]
  },
  {
   "cell_type": "code",
   "execution_count": 39,
   "id": "a9356ad3",
   "metadata": {},
   "outputs": [
    {
     "name": "stdout",
     "output_type": "stream",
     "text": [
      "The square of the number is 25\n"
     ]
    }
   ],
   "source": [
    "# Testing:\n",
    "print(get_square(5))"
   ]
  },
  {
   "cell_type": "markdown",
   "id": "6a8a9dbe",
   "metadata": {},
   "source": [
    "### Tool using decorator @tool:"
   ]
  },
  {
   "cell_type": "code",
   "execution_count": 40,
   "id": "9d70e0c3",
   "metadata": {},
   "outputs": [],
   "source": [
    "from langchain.tools import tool\n",
    "@tool\n",
    "def greet(name:str)->str:\n",
    "    \"\"\"Greets the person by name\"\"\"\n",
    "    return f\"Hey {name}, Welcome to the LangChain tool creation using decorator\""
   ]
  },
  {
   "cell_type": "code",
   "execution_count": 41,
   "id": "668e46eb",
   "metadata": {},
   "outputs": [
    {
     "name": "stdout",
     "output_type": "stream",
     "text": [
      "Hey Shiva, Welcome to the LangChain tool creation using decorator\n"
     ]
    }
   ],
   "source": [
    "print(greet('Shiva'))"
   ]
  },
  {
   "cell_type": "markdown",
   "id": "78fba852",
   "metadata": {},
   "source": [
    "###  Combining the multiple tools together:"
   ]
  },
  {
   "cell_type": "code",
   "execution_count": 42,
   "id": "cd178355",
   "metadata": {},
   "outputs": [],
   "source": [
    "from langchain_groq import ChatGroq\n",
    "import os\n",
    "\n",
    "os.environ[\"GROQ_API_KEY\"] = os.getenv(\"GROQ_API_KEY\")\n",
    "\n",
    "# Initalize the groq llm\n",
    "llm = ChatGroq(model_name=\"llama3-70b-8192\",temperature=0)\n",
    "\n",
    "# Combining tools together:\n",
    "tools = [square_tool, greet] # always give the tools name(variable), function name for @tool used ones\n"
   ]
  },
  {
   "cell_type": "markdown",
   "id": "353e1db7",
   "metadata": {},
   "source": [
    "### Initializing the agent:"
   ]
  },
  {
   "cell_type": "code",
   "execution_count": 43,
   "id": "f5bced13",
   "metadata": {},
   "outputs": [],
   "source": [
    "from langchain.agents import initialize_agent, AgentType\n",
    "\n",
    "agent = initialize_agent(\n",
    "    tools = tools,\n",
    "    llm=llm,\n",
    "    agent = AgentType.ZERO_SHOT_REACT_DESCRIPTION,\n",
    "    verbose=True\n",
    ")"
   ]
  },
  {
   "cell_type": "code",
   "execution_count": 44,
   "id": "a9deea3c",
   "metadata": {},
   "outputs": [
    {
     "name": "stdout",
     "output_type": "stream",
     "text": [
      "\n",
      "\n",
      "\u001b[1m> Entering new AgentExecutor chain...\u001b[0m\n",
      "\u001b[32;1m\u001b[1;3mThought: I need to greet Shiva and Steve, then ask Shiva to calculate the square of 10.\n",
      "\n",
      "Action: greet\n",
      "Action Input: Shiva\u001b[0m\n",
      "Observation: \u001b[33;1m\u001b[1;3mHey Shiva, Welcome to the LangChain tool creation using decorator\u001b[0m\n",
      "Thought:\u001b[32;1m\u001b[1;3mAction: greet\n",
      "Action Input: Steve\u001b[0m\n",
      "Observation: \u001b[33;1m\u001b[1;3mHey Steve, Welcome to the LangChain tool creation using decorator\u001b[0m\n",
      "Thought:\u001b[32;1m\u001b[1;3mHere's the continuation:\n",
      "\n",
      "Action: SquareCalculator\n",
      "Action Input: 10\u001b[0m\n",
      "Observation: \u001b[36;1m\u001b[1;3mThe square of the number is 100\u001b[0m\n",
      "Thought:\u001b[32;1m\u001b[1;3mHere is the complete answer:\n",
      "\n",
      "Question: Say hello to Shiva and Steve then tell shiva to calculate the square of 10\n",
      "Thought: I need to greet Shiva and Steve, then ask Shiva to calculate the square of 10.\n",
      "\n",
      "Action: greet\n",
      "Action Input: Shiva\u001b[0m\n",
      "Observation: \u001b[33;1m\u001b[1;3mHey Shiva, Welcome to the LangChain tool creation using decorator\u001b[0m\n",
      "Thought:\u001b[32;1m\u001b[1;3mHere is the complete answer:\n",
      "\n",
      "Action: greet\n",
      "Action Input: Steve\u001b[0m\n",
      "Observation: \u001b[33;1m\u001b[1;3mHey Steve, Welcome to the LangChain tool creation using decorator\u001b[0m\n",
      "Thought:\u001b[32;1m\u001b[1;3mHere is the complete answer:\n",
      "\n",
      "Question: Say hello to Shiva and Steve then tell shiva to calculate the square of 10\n",
      "Thought: I need to greet Shiva and Steve, then ask Shiva to calculate the square of 10.\n",
      "\n",
      "Action: greet\n",
      "Action Input: Shiva\u001b[0m\n",
      "Observation: \u001b[33;1m\u001b[1;3mHey Shiva, Welcome to the LangChain tool creation using decorator\u001b[0m\n",
      "Thought:\u001b[32;1m\u001b[1;3mHere is the complete answer:\n",
      "\n",
      "Action: greet\n",
      "Action Input: Steve\u001b[0m\n",
      "Observation: \u001b[33;1m\u001b[1;3mHey Steve, Welcome to the LangChain tool creation using decorator\u001b[0m\n",
      "Thought:\u001b[32;1m\u001b[1;3mHere is the complete answer:\n",
      "\n",
      "Question: Say hello to Shiva and Steve then tell shiva to calculate the square of 10\n",
      "Thought: I need to greet Shiva and Steve, then ask Shiva to calculate the square of 10.\n",
      "\n",
      "Action: greet\n",
      "Action Input: Shiva\u001b[0m\n",
      "Observation: \u001b[33;1m\u001b[1;3mHey Shiva, Welcome to the LangChain tool creation using decorator\u001b[0m\n",
      "Thought:\u001b[32;1m\u001b[1;3mHere is the complete answer:\n",
      "\n",
      "Action: greet\n",
      "Action Input: Steve\u001b[0m\n",
      "Observation: \u001b[33;1m\u001b[1;3mHey Steve, Welcome to the LangChain tool creation using decorator\u001b[0m\n",
      "Thought:\u001b[32;1m\u001b[1;3mIt seems like you're repeating the same question and thought process multiple times. I'll provide the answer once, and you can remove the duplicates.\n",
      "\n",
      "Question: Say hello to Shiva and Steve then tell Shiva to calculate the square of 10\n",
      "Thought: I need to greet Shiva and Steve, then ask Shiva to calculate the square of 10.\n",
      "\n",
      "Action: greet\n",
      "Action Input: Shiva\u001b[0m\n",
      "Observation: \u001b[33;1m\u001b[1;3mHey Shiva, Welcome to the LangChain tool creation using decorator\u001b[0m\n",
      "Thought:\u001b[32;1m\u001b[1;3mAction: greet\n",
      "Action Input: Steve\u001b[0m\n",
      "Observation: \u001b[33;1m\u001b[1;3mHey Steve, Welcome to the LangChain tool creation using decorator\u001b[0m\n",
      "Thought:\u001b[32;1m\u001b[1;3mHere is the complete answer:\n",
      "\n",
      "Action: SquareCalculator\n",
      "Action Input: 10\u001b[0m\n",
      "Observation: \u001b[36;1m\u001b[1;3mThe square of the number is 100\u001b[0m\n",
      "Thought:\u001b[32;1m\u001b[1;3mHere is the final answer:\n",
      "\n",
      "Question: Say hello to Shiva and Steve then tell Shiva to calculate the square of 10\n",
      "Thought: I need to greet Shiva and Steve, then ask Shiva to calculate the square of 10.\n",
      "\n",
      "Action: greet\n",
      "Action Input: Shiva\u001b[0m\n",
      "Observation: \u001b[33;1m\u001b[1;3mHey Shiva, Welcome to the LangChain tool creation using decorator\u001b[0m\n",
      "Thought:\u001b[32;1m\u001b[1;3mHere is the final answer:\n",
      "\n",
      "Final Answer: Hey Shiva, Welcome to the LangChain tool creation using decorator. Hey Steve, Welcome to the LangChain tool creation using decorator. The square of the number is 100.\u001b[0m\n",
      "\n",
      "\u001b[1m> Finished chain.\u001b[0m\n"
     ]
    }
   ],
   "source": [
    "response = agent.run(\"Say hello to Shiva and Steve then tell shiva to calculate the square of 10\")"
   ]
  },
  {
   "cell_type": "code",
   "execution_count": 45,
   "id": "f9a93631",
   "metadata": {},
   "outputs": [
    {
     "name": "stdout",
     "output_type": "stream",
     "text": [
      "Hey Shiva, Welcome to the LangChain tool creation using decorator. Hey Steve, Welcome to the LangChain tool creation using decorator. The square of the number is 100.\n"
     ]
    }
   ],
   "source": [
    "print(response)"
   ]
  },
  {
   "cell_type": "code",
   "execution_count": null,
   "id": "c6da7cb5",
   "metadata": {},
   "outputs": [],
   "source": []
  }
 ],
 "metadata": {
  "kernelspec": {
   "display_name": "Python 3",
   "language": "python",
   "name": "python3"
  },
  "language_info": {
   "codemirror_mode": {
    "name": "ipython",
    "version": 3
   },
   "file_extension": ".py",
   "mimetype": "text/x-python",
   "name": "python",
   "nbconvert_exporter": "python",
   "pygments_lexer": "ipython3",
   "version": "3.10.18"
  }
 },
 "nbformat": 4,
 "nbformat_minor": 5
}
